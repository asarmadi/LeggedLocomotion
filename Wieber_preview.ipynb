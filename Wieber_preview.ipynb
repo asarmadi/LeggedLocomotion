{
 "cells": [
  {
   "cell_type": "code",
   "execution_count": 1,
   "metadata": {},
   "outputs": [],
   "source": [
    "from cvxopt import matrix, solvers\n",
    "import matplotlib.pyplot as plt\n",
    "import numpy as np\n",
    "solvers.options['show_progress'] = False"
   ]
  },
  {
   "cell_type": "markdown",
   "metadata": {},
   "source": [
    "## Dynamics\n",
    "In this paper, they proposed a Quadratic Program with inequality constraints:\n",
    "$$\n",
    "\\min_{\\dddot X_k} \\frac{1}{2}\\dddot X_k^2\\\\\n",
    "s.t. Z_k^{min} \\le Z_k \\le Z_k^{max}\\\\\n",
    "$$\n",
    "where\n",
    "$$\n",
    "\\dddot X_k = \\begin{bmatrix} \\dddot x_k \\\\ \\dddot x_{k+1} \\\\ \\vdots \\\\  \\dddot x_{k+N-1}\\end{bmatrix}; Z_k = \\begin{bmatrix} z_k \\\\ z_{k+1} \\\\ \\vdots \\\\ z_{k+N-1}\\end{bmatrix}\n",
    "$$\n",
    "To solve this problem, we know that $Z_{k+1}=P_{zs} \\hat x_k + P_{zu} \\dddot X_k$, therefore, the problem could be written in the following form,\n",
    "$$\n",
    "\\min_{\\dddot X_k} \\frac{1}{2}\\dddot X_k^2\\\\\n",
    "s.t. \\begin{bmatrix} P_{zu} \\\\ -P_{zu} \\end{bmatrix} \\dddot X_k \\le \\begin{bmatrix} (Z_{max} - P_{zs}\\hat x_k) \\\\ (P_{zs}\\hat x_k - Z_{min}) \\end{bmatrix} \\\\\n",
    "$$\n",
    "where\n",
    "$$\n",
    "P_{zs} = \\begin{bmatrix} 1 & T & T^2/2-h/g \\\\ \\vdots & \\vdots & \\vdots \\\\ 1 & NT & N^2T^2/2-h/g\\end{bmatrix}\\\\\n",
    "P_{zu} = \\begin{bmatrix} T^3/6-Th/g & 0 & 0 \\\\ \\vdots & \\ddots & \\vdots \\\\ (1+3N+3N^2)T^3/6-Th/g & \\ldots & T^3/6-Th/g\\end{bmatrix}\\\\\n",
    "$$\n",
    "Now the problem is in the following form and could be solved by CVXOPT qp function,\n",
    "$$\n",
    "\\min_{u_k} \\frac{1}{2}u_k^T P u_k\\\\\n",
    "s.t. Gx \\le h\n",
    "$$\n",
    "We find the next state using the following system dynamics,\n",
    "$$\n",
    "\\hat x_{k+1} = A x_k + B \\dddot x_k\\\\\n",
    "z_k = \\begin{bmatrix} 1 & 0 & -h/g\\end{bmatrix} x_k\n",
    "$$\n",
    "where\n",
    "$$\n",
    "A = \\begin{bmatrix} 1 & T & T^2/2 \\\\ 0 & 1 & T \\\\ 0 & 0 & 1\\end{bmatrix};\n",
    "B = \\begin{bmatrix} T^3/6 \\\\ T^2/2 \\\\ T\\end{bmatrix}\\\\\n",
    "$$"
   ]
  },
  {
   "cell_type": "code",
   "execution_count": 2,
   "metadata": {},
   "outputs": [],
   "source": [
    "g = 9.8   # m.s^{-2}\n",
    "h = 0.8   # m\n",
    "T = 0.005 # s\n",
    "N = 300\n",
    "t_h = 9     # s\n",
    "A = np.array([[1,T,T**2/2],[0,1,T],[0,0,1]])\n",
    "B = np.array([[T**3/6],[T**2/2], [T]])\n",
    "C = np.array([1,0,-1*h/g])\n",
    "x_0 = np.zeros((3,1))"
   ]
  },
  {
   "cell_type": "code",
   "execution_count": 3,
   "metadata": {},
   "outputs": [],
   "source": [
    "def generate_min_max(t_h, T, N):\n",
    "    z_min = []\n",
    "    z_max = []\n",
    "    t = []\n",
    "    for i in range(int(t_h//T) + N):\n",
    "        t.append(i*T)\n",
    "        if i < (2//T):\n",
    "            z_max.append([0.175])\n",
    "        elif i < (3//T):\n",
    "            z_max.append([-0.05])\n",
    "        elif i < (4//T):\n",
    "            z_max.append([0.175])\n",
    "        elif i < (5//T):\n",
    "            z_max.append([-0.05])\n",
    "        elif i < (6//T):\n",
    "            z_max.append([0.175])\n",
    "        elif i < (7//T):\n",
    "            z_max.append([-0.05])\n",
    "        else:\n",
    "            z_max.append([0.175])\n",
    "            \n",
    "        if i < (3//T):\n",
    "            z_min.append([-0.175])\n",
    "        elif i < (4//T):\n",
    "            z_min.append([0.05])\n",
    "        elif i < (5//T):\n",
    "            z_min.append([-0.175])\n",
    "        elif i < (6//T):\n",
    "            z_min.append([0.05])\n",
    "        elif i < (7//T):\n",
    "            z_min.append([-0.175])\n",
    "        else:\n",
    "            z_min.append([0.05])\n",
    "    return z_min, z_max, t"
   ]
  },
  {
   "cell_type": "code",
   "execution_count": 4,
   "metadata": {},
   "outputs": [],
   "source": [
    "z_min, z_max, t = generate_min_max(t_h, T, N)"
   ]
  },
  {
   "cell_type": "code",
   "execution_count": 5,
   "metadata": {},
   "outputs": [],
   "source": [
    "def compute_control(T, N, g, h_com, z_min, z_max, x_k):\n",
    "    \n",
    "    P_zs = np.zeros((N,3))\n",
    "    P_zu = np.zeros((N,N))\n",
    "    for i in range(N):\n",
    "        P_zs[i,:] = np.array([1, (i+1)*T, ((((i+1)*T)**2)/2)-(h_com/g)])\n",
    "        for j in range(i+1):\n",
    "            P_zu[i,i-j] = (1+3*j+3*j**2)*(T**3)/6-T*h_com/g\n",
    "    I_N = np.eye(N)\n",
    "    \n",
    "    P = (1/2)*I_N\n",
    "    G = np.vstack((-1*P_zu,P_zu))\n",
    "    h = np.vstack((P_zs@x_k-z_min,z_max-P_zs@x_k))\n",
    "    \n",
    "    \n",
    "    P = matrix(P)\n",
    "    q = matrix(np.zeros((N,1)))\n",
    "    G = matrix(G)\n",
    "    h = matrix(h)\n",
    "    \n",
    "    sol = solvers.qp(P,q,G,h)\n",
    "    return np.array(sol['x'])\n",
    "\n",
    "def system(A, B, C, x_k, u_k):\n",
    "    x_k_1 = A@x_k + B@u_k\n",
    "    z_k = C@x_k\n",
    "    return x_k_1, z_k\n",
    "    "
   ]
  },
  {
   "cell_type": "code",
   "execution_count": 6,
   "metadata": {},
   "outputs": [],
   "source": [
    "x_k = x_0\n",
    "Z = []\n",
    "x_com = [x_0[0]]\n",
    "\n",
    "\n",
    "for i in range(0,int(t_h//T)):\n",
    "    U = compute_control(T, N, g, h, np.array(z_min[i:i+N]), np.array(z_max[i:i+N]),x_k)\n",
    "    x_k, z_k = system(A, B, C, x_k, U[0:1])\n",
    "    Z.append(z_k)\n",
    "    x_com.append(x_k[0])"
   ]
  },
  {
   "cell_type": "code",
   "execution_count": 7,
   "metadata": {},
   "outputs": [
    {
     "data": {
      "image/png": "[encoded data removed]",
      "text/plain": [
       "<Figure size 432x288 with 1 Axes>"
      ]
     },
     "metadata": {
      "needs_background": "light"
     },
     "output_type": "display_data"
    }
   ],
   "source": [
    "plt.figure(0)\n",
    "plt.plot(t, z_min, '-r', label='min')\n",
    "plt.plot(t, z_max, '-b', label='max')\n",
    "plt.plot(t[:-N], Z, 'g', label = 'ZMP')\n",
    "plt.plot(t[:-N+1], x_com, 'c', label='COM')\n",
    "plt.legend()\n",
    "plt.show()"
   ]
  },
  {
   "cell_type": "code",
   "execution_count": null,
   "metadata": {},
   "outputs": [],
   "source": []
  },
  {
   "cell_type": "code",
   "execution_count": null,
   "metadata": {},
   "outputs": [],
   "source": []
  }
 ],
 "metadata": {
  "kernelspec": {
   "display_name": "Python 3",
   "language": "python",
   "name": "python3"
  },
  "language_info": {
   "codemirror_mode": {
    "name": "ipython",
    "version": 3
   },
   "file_extension": ".py",
   "mimetype": "text/x-python",
   "name": "python",
   "nbconvert_exporter": "python",
   "pygments_lexer": "ipython3",
   "version": "3.7.4"
  }
 },
 "nbformat": 4,
 "nbformat_minor": 2
}
